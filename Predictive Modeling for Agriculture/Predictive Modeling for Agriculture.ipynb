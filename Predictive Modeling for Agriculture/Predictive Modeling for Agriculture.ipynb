{
 "cells": [
  {
   "cell_type": "markdown",
   "id": "4224ab87-acca-455d-aa76-f7acd3df90bb",
   "metadata": {},
   "source": [
    "# Predictive Modeling for Agriculture\n",
    "\n",
    "Sowing Success: How Machine Learning Helps Farmers Select the Best Crops\n",
    "\n",
    "Measuring essential soil metrics such as nitrogen, phosphorous, potassium levels, and pH value is an important aspect of assessing soil condition. However, it can be an expensive and time-consuming process, which can cause farmers to prioritize which metrics to measure based on their budget constraints.\n",
    "\n",
    "Farmers have various options when it comes to deciding which crop to plant each season. Their primary objective is to maximize the yield of their crops, taking into account different factors. One crucial factor that affects crop growth is the condition of the soil in the field, which can be assessed by measuring basic elements such as nitrogen and potassium levels. Each crop has an ideal soil condition that ensures optimal growth and maximum yield.\n",
    "\n",
    "A farmer reached out to you as a machine learning expert for assistance in selecting the best crop for his field. They've provided you with a dataset called soil_measures.csv, which contains:\n",
    "\n",
    "\"N\": Nitrogen content ratio in the soil\n",
    "\n",
    "\"P\": Phosphorous content ratio in the soil\n",
    "\n",
    "\"K\": Potassium content ratio in the soil\n",
    "\n",
    "\"pH\" value of the soil\n",
    "\n",
    "\"crop\": categorical values that contain various crops (target variable).\n",
    "\n",
    "Each row in this dataset represents various measures of the soil in a particular field. Based on these measurements, the crop specified in the \"crop\" column is the optimal choice for that field.\n",
    "\n",
    "In this project, it will be built a multi-class classification model to predict the type of \"crop\" and identify the single most importance feature for predictive performance."
   ]
  },
  {
   "cell_type": "code",
   "execution_count": 1,
   "id": "4f477f4e-66e9-40fd-b231-57a43db13cbe",
   "metadata": {
    "tags": []
   },
   "outputs": [
    {
     "data": {
      "text/html": [
       "<div>\n",
       "<style scoped>\n",
       "    .dataframe tbody tr th:only-of-type {\n",
       "        vertical-align: middle;\n",
       "    }\n",
       "\n",
       "    .dataframe tbody tr th {\n",
       "        vertical-align: top;\n",
       "    }\n",
       "\n",
       "    .dataframe thead th {\n",
       "        text-align: right;\n",
       "    }\n",
       "</style>\n",
       "<table border=\"1\" class=\"dataframe\">\n",
       "  <thead>\n",
       "    <tr style=\"text-align: right;\">\n",
       "      <th></th>\n",
       "      <th>N</th>\n",
       "      <th>P</th>\n",
       "      <th>K</th>\n",
       "      <th>ph</th>\n",
       "      <th>crop</th>\n",
       "    </tr>\n",
       "  </thead>\n",
       "  <tbody>\n",
       "    <tr>\n",
       "      <th>0</th>\n",
       "      <td>90</td>\n",
       "      <td>42</td>\n",
       "      <td>43</td>\n",
       "      <td>6.502985</td>\n",
       "      <td>rice</td>\n",
       "    </tr>\n",
       "    <tr>\n",
       "      <th>1</th>\n",
       "      <td>85</td>\n",
       "      <td>58</td>\n",
       "      <td>41</td>\n",
       "      <td>7.038096</td>\n",
       "      <td>rice</td>\n",
       "    </tr>\n",
       "    <tr>\n",
       "      <th>2</th>\n",
       "      <td>60</td>\n",
       "      <td>55</td>\n",
       "      <td>44</td>\n",
       "      <td>7.840207</td>\n",
       "      <td>rice</td>\n",
       "    </tr>\n",
       "    <tr>\n",
       "      <th>3</th>\n",
       "      <td>74</td>\n",
       "      <td>35</td>\n",
       "      <td>40</td>\n",
       "      <td>6.980401</td>\n",
       "      <td>rice</td>\n",
       "    </tr>\n",
       "    <tr>\n",
       "      <th>4</th>\n",
       "      <td>78</td>\n",
       "      <td>42</td>\n",
       "      <td>42</td>\n",
       "      <td>7.628473</td>\n",
       "      <td>rice</td>\n",
       "    </tr>\n",
       "  </tbody>\n",
       "</table>\n",
       "</div>"
      ],
      "text/plain": [
       "    N   P   K        ph  crop\n",
       "0  90  42  43  6.502985  rice\n",
       "1  85  58  41  7.038096  rice\n",
       "2  60  55  44  7.840207  rice\n",
       "3  74  35  40  6.980401  rice\n",
       "4  78  42  42  7.628473  rice"
      ]
     },
     "metadata": {},
     "output_type": "display_data"
    }
   ],
   "source": [
    "# ImportPackages\n",
    "import pandas as pd\n",
    "from sklearn.linear_model import LogisticRegression\n",
    "from sklearn.model_selection import train_test_split\n",
    "from sklearn import metrics\n",
    "\n",
    "# Load the dataset\n",
    "crops = pd.read_csv(\"datasets/soil_measures.csv\")\n",
    "\n",
    "display(crops.head())"
   ]
  },
  {
   "cell_type": "code",
   "execution_count": 4,
   "id": "13c8e90e-02de-4f85-879f-31be021b6bc6",
   "metadata": {
    "tags": []
   },
   "outputs": [
    {
     "name": "stdout",
     "output_type": "stream",
     "text": [
      "N       0\n",
      "P       0\n",
      "K       0\n",
      "ph      0\n",
      "crop    0\n",
      "dtype: int64\n",
      "\n",
      "\n",
      "['rice' 'maize' 'chickpea' 'kidneybeans' 'pigeonpeas' 'mothbeans'\n",
      " 'mungbean' 'blackgram' 'lentil' 'pomegranate' 'banana' 'mango' 'grapes'\n",
      " 'watermelon' 'muskmelon' 'apple' 'orange' 'papaya' 'coconut' 'cotton'\n",
      " 'jute' 'coffee']\n"
     ]
    }
   ],
   "source": [
    "# Checking for missing values\n",
    "print(crops.isna().sum())\n",
    "print('\\n')\n",
    "\n",
    "# Checking for crop types\n",
    "print(crops['crop'].unique())"
   ]
  },
  {
   "cell_type": "code",
   "execution_count": 5,
   "id": "40625e15-5372-4bbd-adf1-ab823da3f890",
   "metadata": {
    "tags": []
   },
     {
     "name": "stdout",
     "output_type": "stream",
     "text": [
      "F1-score for N: 0.09149868209906838\n",
      "F1-score for P: 0.14761942909728204\n",
      "F1-score for K: 0.23896974566001802\n",
      "F1-score for ph: 0.04532731061152114\n"
     ]
    },
     ],
   "source": [
    "# X will be the soil conditions as N, P, K and pH \n",
    "X = crops.iloc[:,:-1]\n",
    "\n",
    "# the feature will the the crop type\n",
    "y = crops['crop']\n",
    "\n",
    "X_train, X_test, y_train, y_test = train_test_split(X, y, test_size=0.2, random_state=42)\n",
    "\n",
    "# creating an empty dictionary\n",
    "feature_performance = {}\n",
    "\n",
    "# Train a logistic regression model for each feature\n",
    "for feature in [\"N\", \"P\", \"K\", \"ph\"]:\n",
    "    log_reg = LogisticRegression(multi_class='multinomial')\n",
    "    log_reg.fit(X_train[[feature]], y_train)\n",
    "    y_pred = log_reg.predict(X_test[[feature]])\n",
    "    \n",
    "    #Calculating the f1-scores, the harmonic mean of precision and recall\n",
    "    f1 = metrics.f1_score(y_test, y_pred, average='weighted')\n",
    "    \n",
    "    # Add feature-f1 score pairs to the dictionary\n",
    "    feature_performance[feature] = f1\n",
    "    print(f\"F1-score for {feature}: {f1}\")\n"
   ]
  },
  {
   "cell_type": "code",
   "execution_count": 6,
   "id": "bfe5d56d-7bb3-456e-9e17-7591798d9f9d",
   "metadata": {
    "tags": []
   },
   "outputs": [
    {
     "data": {
      "text/plain": [
       "{'K': 0.23896974566001802}"
      ]
     },
     "execution_count": 6,
     "metadata": {},
     "output_type": "execute_result"
    }
   ],
   "source": [
    "best_predictive_feature = {\"K\": feature_performance[\"K\"]}\n",
    "best_predictive_feature"
   ]
  }
 ],
 "metadata": {
  "kernelspec": {
   "display_name": "Python 3 (ipykernel)",
   "language": "python",
   "name": "python3"
  },
  "language_info": {
   "codemirror_mode": {
    "name": "ipython",
    "version": 3
   },
   "file_extension": ".py",
   "mimetype": "text/x-python",
   "name": "python",
   "nbconvert_exporter": "python",
   "pygments_lexer": "ipython3",
   "version": "3.11.5"
  }
 },
 "nbformat": 4,
 "nbformat_minor": 5
}
