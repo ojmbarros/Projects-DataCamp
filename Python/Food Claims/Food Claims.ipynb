{
 "cells": [
  {
   "cell_type": "markdown",
   "id": "9f75a56f-e299-4a95-96f0-79e0dcda60cb",
   "metadata": {},
   "source": [
    "# Food Claims Process\n",
    "\n",
    "Vivendo is a fast food chain in Brazil with over 200 outlets. As with many fast-food establishments, customers make claims against the company. For example, they Blame Vivendo for suspected food poisoning.\n",
    "\n",
    "The legal team, that processes these claims, is currently split across four locations. The new head of the legal department wants to know if there are differences in the time it takes to close claims across the locations."
   ]
  },
  {
   "cell_type": "markdown",
   "id": "a3e6a550-532d-485d-9a19-8f2b25738235",
   "metadata": {},
   "source": [
    "## Exploratory analysis and Data Validation\n",
    "\n",
    "Here, the data will be imported and perform some exploratory analysis as data cleaning as necessary. "
   ]
  },
  {
   "cell_type": "code",
   "execution_count": 1,
   "id": "18d4422a-7bb5-45cf-9704-a2417c380409",
   "metadata": {
    "tags": []
   },
   "outputs": [],
   "source": [
    "#Packages for data handling:\n",
    "import pandas as pd\n",
    "import numpy as np\n",
    "\n",
    "#Packages for data visualization:\n",
    "import matplotlib.pyplot as plt\n",
    "import seaborn as sns"
   ]
  },
  {
   "cell_type": "code",
   "execution_count": 2,
   "id": "74622b37-8a71-46b9-9430-66d6d359ab42",
   "metadata": {
    "tags": []
   },
   "outputs": [
    {
     "data": {
      "text/html": [
       "<div>\n",
       "<style scoped>\n",
       "    .dataframe tbody tr th:only-of-type {\n",
       "        vertical-align: middle;\n",
       "    }\n",
       "\n",
       "    .dataframe tbody tr th {\n",
       "        vertical-align: top;\n",
       "    }\n",
       "\n",
       "    .dataframe thead th {\n",
       "        text-align: right;\n",
       "    }\n",
       "</style>\n",
       "<table border=\"1\" class=\"dataframe\">\n",
       "  <thead>\n",
       "    <tr style=\"text-align: right;\">\n",
       "      <th></th>\n",
       "      <th>claim_id</th>\n",
       "      <th>time_to_close</th>\n",
       "      <th>claim_amount</th>\n",
       "      <th>amount_paid</th>\n",
       "      <th>location</th>\n",
       "      <th>individuals_on_claim</th>\n",
       "      <th>linked_cases</th>\n",
       "      <th>cause</th>\n",
       "    </tr>\n",
       "  </thead>\n",
       "  <tbody>\n",
       "    <tr>\n",
       "      <th>0</th>\n",
       "      <td>1</td>\n",
       "      <td>317</td>\n",
       "      <td>R$ 74474.55</td>\n",
       "      <td>51231.37</td>\n",
       "      <td>RECIFE</td>\n",
       "      <td>15</td>\n",
       "      <td>False</td>\n",
       "      <td>unknown</td>\n",
       "    </tr>\n",
       "    <tr>\n",
       "      <th>1</th>\n",
       "      <td>2</td>\n",
       "      <td>195</td>\n",
       "      <td>R$ 52137.83</td>\n",
       "      <td>42111.30</td>\n",
       "      <td>FORTALEZA</td>\n",
       "      <td>12</td>\n",
       "      <td>True</td>\n",
       "      <td>unknown</td>\n",
       "    </tr>\n",
       "    <tr>\n",
       "      <th>2</th>\n",
       "      <td>3</td>\n",
       "      <td>183</td>\n",
       "      <td>R$ 24447.2</td>\n",
       "      <td>23986.30</td>\n",
       "      <td>SAO LUIS</td>\n",
       "      <td>10</td>\n",
       "      <td>True</td>\n",
       "      <td>meat</td>\n",
       "    </tr>\n",
       "    <tr>\n",
       "      <th>3</th>\n",
       "      <td>4</td>\n",
       "      <td>186</td>\n",
       "      <td>R$ 29006.28</td>\n",
       "      <td>27942.72</td>\n",
       "      <td>FORTALEZA</td>\n",
       "      <td>11</td>\n",
       "      <td>False</td>\n",
       "      <td>meat</td>\n",
       "    </tr>\n",
       "    <tr>\n",
       "      <th>4</th>\n",
       "      <td>5</td>\n",
       "      <td>138</td>\n",
       "      <td>R$ 19520.6</td>\n",
       "      <td>16251.06</td>\n",
       "      <td>RECIFE</td>\n",
       "      <td>11</td>\n",
       "      <td>False</td>\n",
       "      <td>vegetable</td>\n",
       "    </tr>\n",
       "    <tr>\n",
       "      <th>...</th>\n",
       "      <td>...</td>\n",
       "      <td>...</td>\n",
       "      <td>...</td>\n",
       "      <td>...</td>\n",
       "      <td>...</td>\n",
       "      <td>...</td>\n",
       "      <td>...</td>\n",
       "      <td>...</td>\n",
       "    </tr>\n",
       "    <tr>\n",
       "      <th>1995</th>\n",
       "      <td>1996</td>\n",
       "      <td>176</td>\n",
       "      <td>R$ 28982.3</td>\n",
       "      <td>24265.02</td>\n",
       "      <td>RECIFE</td>\n",
       "      <td>10</td>\n",
       "      <td>False</td>\n",
       "      <td>meat</td>\n",
       "    </tr>\n",
       "    <tr>\n",
       "      <th>1996</th>\n",
       "      <td>1997</td>\n",
       "      <td>166</td>\n",
       "      <td>R$ 5188.44</td>\n",
       "      <td>4772.77</td>\n",
       "      <td>FORTALEZA</td>\n",
       "      <td>2</td>\n",
       "      <td>True</td>\n",
       "      <td>meat</td>\n",
       "    </tr>\n",
       "    <tr>\n",
       "      <th>1997</th>\n",
       "      <td>1998</td>\n",
       "      <td>179</td>\n",
       "      <td>R$ 11975.85</td>\n",
       "      <td>10087.81</td>\n",
       "      <td>RECIFE</td>\n",
       "      <td>4</td>\n",
       "      <td>True</td>\n",
       "      <td>meat</td>\n",
       "    </tr>\n",
       "    <tr>\n",
       "      <th>1998</th>\n",
       "      <td>1999</td>\n",
       "      <td>162</td>\n",
       "      <td>R$ 23516.28</td>\n",
       "      <td>23310.24</td>\n",
       "      <td>RECIFE</td>\n",
       "      <td>9</td>\n",
       "      <td>False</td>\n",
       "      <td>meat</td>\n",
       "    </tr>\n",
       "    <tr>\n",
       "      <th>1999</th>\n",
       "      <td>2000</td>\n",
       "      <td>150</td>\n",
       "      <td>R$ 8051.4</td>\n",
       "      <td>6417.92</td>\n",
       "      <td>RECIFE</td>\n",
       "      <td>4</td>\n",
       "      <td>False</td>\n",
       "      <td>vegetable</td>\n",
       "    </tr>\n",
       "  </tbody>\n",
       "</table>\n",
       "<p>2000 rows × 8 columns</p>\n",
       "</div>"
      ],
      "text/plain": [
       "      claim_id  time_to_close claim_amount  amount_paid   location  \\\n",
       "0            1            317  R$ 74474.55     51231.37     RECIFE   \n",
       "1            2            195  R$ 52137.83     42111.30  FORTALEZA   \n",
       "2            3            183   R$ 24447.2     23986.30   SAO LUIS   \n",
       "3            4            186  R$ 29006.28     27942.72  FORTALEZA   \n",
       "4            5            138   R$ 19520.6     16251.06     RECIFE   \n",
       "...        ...            ...          ...          ...        ...   \n",
       "1995      1996            176   R$ 28982.3     24265.02     RECIFE   \n",
       "1996      1997            166   R$ 5188.44      4772.77  FORTALEZA   \n",
       "1997      1998            179  R$ 11975.85     10087.81     RECIFE   \n",
       "1998      1999            162  R$ 23516.28     23310.24     RECIFE   \n",
       "1999      2000            150    R$ 8051.4      6417.92     RECIFE   \n",
       "\n",
       "      individuals_on_claim linked_cases      cause  \n",
       "0                       15        False    unknown  \n",
       "1                       12         True    unknown  \n",
       "2                       10         True       meat  \n",
       "3                       11        False       meat  \n",
       "4                       11        False  vegetable  \n",
       "...                    ...          ...        ...  \n",
       "1995                    10        False       meat  \n",
       "1996                     2         True       meat  \n",
       "1997                     4         True       meat  \n",
       "1998                     9        False       meat  \n",
       "1999                     4        False  vegetable  \n",
       "\n",
       "[2000 rows x 8 columns]"
      ]
     },
     "metadata": {},
     "output_type": "display_data"
    },
    {
     "name": "stdout",
     "output_type": "stream",
     "text": [
      "\n",
      "\n",
      "Dataframe info:\n",
      "<class 'pandas.core.frame.DataFrame'>\n",
      "RangeIndex: 2000 entries, 0 to 1999\n",
      "Data columns (total 8 columns):\n",
      " #   Column                Non-Null Count  Dtype  \n",
      "---  ------                --------------  -----  \n",
      " 0   claim_id              2000 non-null   int64  \n",
      " 1   time_to_close         2000 non-null   int64  \n",
      " 2   claim_amount          2000 non-null   object \n",
      " 3   amount_paid           1964 non-null   float64\n",
      " 4   location              2000 non-null   object \n",
      " 5   individuals_on_claim  2000 non-null   int64  \n",
      " 6   linked_cases          1974 non-null   object \n",
      " 7   cause                 2000 non-null   object \n",
      "dtypes: float64(1), int64(3), object(4)\n",
      "memory usage: 125.1+ KB\n",
      "None\n",
      "\n",
      "\n",
      "Total number of NaN values per column:\n",
      "claim_id                 0\n",
      "time_to_close            0\n",
      "claim_amount             0\n",
      "amount_paid             36\n",
      "location                 0\n",
      "individuals_on_claim     0\n",
      "linked_cases            26\n",
      "cause                    0\n",
      "dtype: int64\n",
      "\n",
      "\n",
      "Total of unique values per column:\n",
      "claim_id                2000\n",
      "time_to_close            256\n",
      "claim_amount            2000\n",
      "amount_paid             1963\n",
      "location                   4\n",
      "individuals_on_claim      15\n",
      "linked_cases               2\n",
      "cause                      5\n",
      "dtype: int64\n"
     ]
    }
   ],
   "source": [
    "#Upload the dataframe\n",
    "df = pd.read_csv('datasets/food_claims_2212.csv')\n",
    "\n",
    "#Displaying the whole df:\n",
    "display(df)\n",
    "print('\\n')\n",
    "\n",
    "#Display the information for each column of the df:\n",
    "print('Dataframe info:')\n",
    "print(df.info())\n",
    "print('\\n')\n",
    "\n",
    "#Display the number of NaN values for each column:\n",
    "print('Total number of NaN values per column:')\n",
    "print(df.isna().sum())\n",
    "print('\\n')\n",
    "\n",
    "#Display the unique values of each column:\n",
    "print('Total of unique values per column:')\n",
    "print(df.nunique())"
   ]
  },
  {
   "cell_type": "markdown",
   "id": "6dfdce56-df6c-4cfc-a405-dd5e1629d234",
   "metadata": {},
   "source": [
    "The dataframe has 2000 rows and 8 columns. So for each column, I have:\n",
    "\n",
    "claim_id: this column has 2000 unique and non null values.\n",
    "\n",
    "time_to_close: this column has 2000 rows with no missing values.\n",
    "\n",
    "claim_amount: this column has 2000 non null values. The column was classified as object type, which must be changed to float type. After a close inspection, it was verified that each row had 'R$ ' before the amount claimed. It is required to remove before changing the data type.\n",
    "\n",
    "amount_paid: this column has 36 null values. The missing values were replaced by the column median, as indicated.\n",
    "\n",
    "location: this column has 2000 non null values, no missing values, and 4 unique values.\n",
    "\n",
    "individuals_on_claim: this column has 2000 non null values with no missing values.\n",
    "\n",
    "linked_cases: this column has 26 null values. The null values will the changed to False, as indicated. Afterward, this column data type will be changed from object to boolean. The column has only 2 unique values, as expected.\n",
    "\n",
    "cause: this column has 2000 rows non null values with no missing values. This column was expected to have only 3 unique values and was verified it has 5 instead. A quick look into the unique values allowed us to correct them by changing all letters to lowercase, stripping unnecessary spacing and replacing the plural with the singular."
   ]
  },
  {
   "cell_type": "code",
   "execution_count": 3,
   "id": "3599aa0e-1dc0-4d62-9437-129cbe21f470",
   "metadata": {
    "tags": []
   },
   "outputs": [
    {
     "name": "stdout",
     "output_type": "stream",
     "text": [
      "Dataframe info:\n",
      "<class 'pandas.core.frame.DataFrame'>\n",
      "RangeIndex: 2000 entries, 0 to 1999\n",
      "Data columns (total 8 columns):\n",
      " #   Column                Non-Null Count  Dtype  \n",
      "---  ------                --------------  -----  \n",
      " 0   claim_id              2000 non-null   int64  \n",
      " 1   time_to_close         2000 non-null   int64  \n",
      " 2   claim_amount          2000 non-null   float64\n",
      " 3   amount_paid           2000 non-null   float64\n",
      " 4   location              2000 non-null   object \n",
      " 5   individuals_on_claim  2000 non-null   int64  \n",
      " 6   linked_cases          2000 non-null   bool   \n",
      " 7   cause                 2000 non-null   object \n",
      "dtypes: bool(1), float64(2), int64(3), object(2)\n",
      "memory usage: 111.5+ KB\n",
      "None\n",
      "\n",
      "\n",
      "Total of unique values per column:\n",
      "claim_id                2000\n",
      "time_to_close            256\n",
      "location                   4\n",
      "individuals_on_claim      15\n",
      "linked_cases               2\n",
      "cause                      3\n",
      "dtype: int64\n"
     ]
    }
   ],
   "source": [
    "#Remove unecessary information from the rows:\n",
    "df['claim_amount']=df['claim_amount'].apply(lambda x: x.replace('R$ ',''))\n",
    "\n",
    "#Filling the NaN values:\n",
    "df['amount_paid']=df['amount_paid'].fillna(df['amount_paid'].median())\n",
    "df['linked_cases']=df['linked_cases'].replace('','False')\n",
    "\n",
    "\n",
    "#Correct the data types:\n",
    "df['claim_amount']=df['claim_amount'].astype('float')\n",
    "df['linked_cases']=df['linked_cases'].astype('bool')\n",
    "\n",
    "\n",
    "#Cleaning the column to allow a better data handling when this column will be used:\n",
    "df['cause']=df['cause'].str.lower()\n",
    "df['cause']=df['cause'].str.strip()\n",
    "df['cause']=df['cause'].replace('vegetables', 'vegetable')\n",
    "\n",
    "\n",
    "#Confirmations:\n",
    "#Display the information for each column of the df to confirm the changed made:\n",
    "print('Dataframe info:')\n",
    "print(df.info())\n",
    "print('\\n')\n",
    "\n",
    "#Check the unique values of each column:\n",
    "print('Total of unique values per column:')\n",
    "print(df.select_dtypes(['int','object', 'bool']).nunique())"
   ]
  },
  {
   "cell_type": "markdown",
   "id": "8344d61f-62d5-413f-a9da-a33fc23314ef",
   "metadata": {},
   "source": [
    "## How does the number of claims differ across locations?\n",
    "\n",
    "The number of claims can be visualized using a countplot for each location. Adding to that, the respective percentage of claims for each location can be calculated."
   ]
  },
  {
   "cell_type": "code",
   "execution_count": 4,
   "id": "4d43fc68-ead8-4679-a5d5-861e485ab6d1",
   "metadata": {
    "tags": []
   },
   "outputs": [
    {
     "data": {
      "text/plain": [
       "Text(0, 0.5, 'Count')"
      ]
     },
     "execution_count": 4,
     "metadata": {},
     "output_type": "execute_result"
    },
    {
     "data": {
      "image/png": "[encoded data removed]",
      "text/plain": [
       "<Figure size 640x480 with 1 Axes>"
      ]
     },
     "metadata": {},
     "output_type": "display_data"
    }
   ],
   "source": [
    "sns.countplot(x=df['location']).set(title=('Graph 1: Count of the total number of claims per city'))\n",
    "plt.xlabel('Location')\n",
    "plt.ylabel('Count')"
   ]
  },
  {
   "cell_type": "code",
   "execution_count": 5,
   "id": "570e7a01-ee54-4d82-8c48-c89ecf0861e4",
   "metadata": {
    "tags": []
   },
   "outputs": [
    {
     "data": {
      "text/plain": [
       "location\n",
       "RECIFE       44.25\n",
       "SAO LUIS     25.85\n",
       "FORTALEZA    15.55\n",
       "NATAL        14.35\n",
       "Name: count, dtype: float64"
      ]
     },
     "execution_count": 5,
     "metadata": {},
     "output_type": "execute_result"
    }
   ],
   "source": [
    "percentage =(df['location'].value_counts()/len(df['location']))*100\n",
    "percentage"
   ]
  },
  {
   "cell_type": "markdown",
   "id": "31834c7e-0f10-4c2f-bb79-bfe3bc4a88d1",
   "metadata": {},
   "source": [
    "From Graph 1, it is possible to see that number of claims is higher at Recife, with 44.25 % of the total claims. The data is well distributed for all locations, even though Recife has most of the total claims."
   ]
  },
  {
   "cell_type": "markdown",
   "id": "3563255d-a5eb-4e34-905b-df756422a026",
   "metadata": {},
   "source": [
    "## What is the distribution of time to close claims?\n",
    "\n",
    "The distribution of time to close claims can be achieved by using a histogram and evaluating its skewness."
   ]
  },
  {
   "cell_type": "code",
   "execution_count": 6,
   "id": "37f65281-abda-4541-bd0e-97143e314bdf",
   "metadata": {
    "tags": []
   },
   "outputs": [
    {
     "data": {
      "text/plain": [
       "Text(0, 0.5, 'Count')"
      ]
     },
     "execution_count": 6,
     "metadata": {},
     "output_type": "execute_result"
    },
    {
     "data": {
      "image/png": "[encoded data removed]",
      "text/plain": [
       "<Figure size 640x480 with 1 Axes>"
      ]
     },
     "metadata": {},
     "output_type": "display_data"
    }
   ],
   "source": [
    "plt.hist(df['time_to_close'], bins=50)\n",
    "plt.title('Graph 2: Distribution of the time to close')\n",
    "plt.xlabel('Time to close (in days)')\n",
    "plt.ylabel('Count')"
   ]
  },
  {
   "cell_type": "markdown",
   "id": "78173ea2-8f29-4a53-aca7-2a7c6e16c643",
   "metadata": {},
   "source": [
    "From Graph 2, it is possible to see that the time to close for all claims seems to be a right-skewed distribution, with most cases being closed after 190 days. However, some cases were closed after more than 300 days, which indicates the possible existence of outliers in the data. Further analysis would be required to understand these outliers and decide if these values should be kept to obtain more insights regarding the time needed to close food poisoning claims."
   ]
  },
  {
   "cell_type": "markdown",
   "id": "b9190d14-9ac5-4994-90f2-2a60b4486204",
   "metadata": {},
   "source": [
    "## How does the average time to close claims differ by location?\n",
    "\n",
    "This question can be answered by plotting a boxplot for each location and compare the respective median value as the interquartile range."
   ]
  },
  {
   "cell_type": "code",
   "execution_count": 7,
   "id": "cc771f9b-2b7a-4dfb-becc-7c9c8f062393",
   "metadata": {
    "tags": []
   },
   "outputs": [
    {
     "data": {
      "text/plain": [
       "Text(0, 0.5, 'Time to close (in days)')"
      ]
     },
     "execution_count": 7,
     "metadata": {},
     "output_type": "execute_result"
    },
    {
     "data": {
      "image/png": "[encoded data removed]",
      "text/plain": [
       "<Figure size 640x480 with 1 Axes>"
      ]
     },
     "metadata": {},
     "output_type": "display_data"
    }
   ],
   "source": [
    "sns.boxplot(x='location', y='time_to_close',data=df)\n",
    "plt.title('Graph 3: Time to close per location')\n",
    "plt.xlabel('Location')\n",
    "plt.ylabel('Time to close (in days)')"
   ]
  },
  {
   "cell_type": "markdown",
   "id": "6ad993fb-dca3-4a92-b946-9a41a815eb84",
   "metadata": {},
   "source": [
    "Graph 3 represents the time to close the claim for each location. The results seemed very similar between each city, as seen from the median value, and the interquartile range for each city is identical. However, a better evaluation to know which city has the lowest time to close would require the removal of part of the outliers so it would be possible to have a better visualization, which could help to see the differences between each city."
   ]
  }
 ],
 "metadata": {
  "kernelspec": {
   "display_name": "Python 3 (ipykernel)",
   "language": "python",
   "name": "python3"
  },
  "language_info": {
   "codemirror_mode": {
    "name": "ipython",
    "version": 3
   },
   "file_extension": ".py",
   "mimetype": "text/x-python",
   "name": "python",
   "nbconvert_exporter": "python",
   "pygments_lexer": "ipython3",
   "version": "3.11.5"
  }
 },
 "nbformat": 4,
 "nbformat_minor": 5
}
