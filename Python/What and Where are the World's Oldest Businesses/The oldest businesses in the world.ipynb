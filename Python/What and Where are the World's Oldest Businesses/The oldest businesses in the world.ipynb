{
 "cells": [
  {
   "cell_type": "markdown",
   "id": "abefddf9-bec1-4907-a9b5-296c214d4761",
   "metadata": {},
   "source": [
    "# The oldest businesses in the world"
   ]
  },
  {
   "cell_type": "markdown",
   "id": "85d0d544-a9a3-4039-a577-894e4e0b359f",
   "metadata": {},
   "source": [
    "## 1. The oldest businesses in the world"
   ]
  },
  {
   "cell_type": "code",
   "execution_count": 1,
   "id": "ed846354-3451-4810-8c88-f0152ded15a6",
   "metadata": {
    "tags": []
   },
   "outputs": [
    {
     "name": "stdout",
     "output_type": "stream",
     "text": [
      "                        business  year_founded category_code country_code\n",
      "64                    Kongō Gumi           578          CAT6          JPN\n",
      "94   St. Peter Stifts Kulinarium           803          CAT4          AUT\n",
      "107        Staffelter Hof Winery           862          CAT9          DEU\n",
      "106            Monnaie de Paris            864         CAT12          FRA\n",
      "103               The Royal Mint           886         CAT12          GBR\n"
     ]
    }
   ],
   "source": [
    "# Import all libraries required under their usual alias (for this work, only pandas will be required)\n",
    "import pandas as pd\n",
    "\n",
    "# Load the business.csv file as a DataFrame called businesses\n",
    "businesses = pd.read_csv('Datasets/businesses.csv')\n",
    "\n",
    "# Sort businesses from oldest businesses to youngest\n",
    "sorted_businesses = businesses.sort_values(by='year_founded', ascending=True)\n",
    "\n",
    "# Display the first few lines of sorted_businesses\n",
    "print(sorted_businesses.head())"
   ]
  },
  {
   "cell_type": "markdown",
   "id": "ccfcb4fa-b4ed-4726-a12c-7db830a82e10",
   "metadata": {},
   "source": [
    "In the previous code, we have learned that Kongō Gumi is the world's oldest continuously operating business."
   ]
  },
  {
   "cell_type": "markdown",
   "id": "56c44318-bb9d-4dce-b261-2f72d3f311a2",
   "metadata": {},
   "source": [
    "## 2. Oldest Business in each continent"
   ]
  },
  {
   "cell_type": "markdown",
   "id": "e38aa79a-b5cc-4bd3-a64c-085c0599e436",
   "metadata": {},
   "source": [
    "The next study aims to find the oldest business for each continent. For that, it will be required to use the countries.csv dataset which has the data for the name of each country and each continent."
   ]
  },
  {
   "cell_type": "code",
   "execution_count": 2,
   "id": "23f431cf-8ed6-4764-9686-f1aa75ef602c",
   "metadata": {
    "tags": []
   },
   "outputs": [
    {
     "name": "stdout",
     "output_type": "stream",
     "text": [
      "['Asia' 'Europe' 'North America' 'South America' 'Africa' 'Oceania']\n"
     ]
    }
   ],
   "source": [
    "# Load countries.csv to a DataFrame\n",
    "countries = pd.read_csv('Datasets/countries.csv')\n",
    "\n",
    "# Merge sorted_businesses with countries\n",
    "businesses_countries = sorted_businesses.merge(countries, how='inner', left_on='country_code', right_on='country_code')\n",
    "\n",
    "print(businesses_countries['continent'].unique())"
   ]
  },
  {
   "cell_type": "code",
   "execution_count": 3,
   "id": "9cedd41e-fc70-4d6c-8411-bfe03288a512",
   "metadata": {
    "tags": []
   },
   "outputs": [
    {
     "data": {
      "text/html": [
       "<div>\n",
       "<style scoped>\n",
       "    .dataframe tbody tr th:only-of-type {\n",
       "        vertical-align: middle;\n",
       "    }\n",
       "\n",
       "    .dataframe tbody tr th {\n",
       "        vertical-align: top;\n",
       "    }\n",
       "\n",
       "    .dataframe thead th {\n",
       "        text-align: right;\n",
       "    }\n",
       "</style>\n",
       "<table border=\"1\" class=\"dataframe\">\n",
       "  <thead>\n",
       "    <tr style=\"text-align: right;\">\n",
       "      <th></th>\n",
       "      <th>business</th>\n",
       "      <th>year_founded</th>\n",
       "      <th>category_code</th>\n",
       "      <th>country_code</th>\n",
       "      <th>country</th>\n",
       "      <th>continent</th>\n",
       "    </tr>\n",
       "  </thead>\n",
       "  <tbody>\n",
       "    <tr>\n",
       "      <th>0</th>\n",
       "      <td>Kongō Gumi</td>\n",
       "      <td>578</td>\n",
       "      <td>CAT6</td>\n",
       "      <td>JPN</td>\n",
       "      <td>Japan</td>\n",
       "      <td>Asia</td>\n",
       "    </tr>\n",
       "    <tr>\n",
       "      <th>9</th>\n",
       "      <td>Ma Yu Ching's Bucket Chicken House</td>\n",
       "      <td>1153</td>\n",
       "      <td>CAT4</td>\n",
       "      <td>CHN</td>\n",
       "      <td>China</td>\n",
       "      <td>Asia</td>\n",
       "    </tr>\n",
       "    <tr>\n",
       "      <th>24</th>\n",
       "      <td>Çemberlitaş Hamamı</td>\n",
       "      <td>1584</td>\n",
       "      <td>CAT19</td>\n",
       "      <td>TUR</td>\n",
       "      <td>Turkey</td>\n",
       "      <td>Asia</td>\n",
       "    </tr>\n",
       "    <tr>\n",
       "      <th>38</th>\n",
       "      <td>Wadia Group</td>\n",
       "      <td>1736</td>\n",
       "      <td>CAT12</td>\n",
       "      <td>IND</td>\n",
       "      <td>India</td>\n",
       "      <td>Asia</td>\n",
       "    </tr>\n",
       "    <tr>\n",
       "      <th>44</th>\n",
       "      <td>Pos Malaysia</td>\n",
       "      <td>1800</td>\n",
       "      <td>CAT16</td>\n",
       "      <td>MYS</td>\n",
       "      <td>Malaysia</td>\n",
       "      <td>Asia</td>\n",
       "    </tr>\n",
       "  </tbody>\n",
       "</table>\n",
       "</div>"
      ],
      "text/plain": [
       "                              business  year_founded category_code  \\\n",
       "0                           Kongō Gumi           578          CAT6   \n",
       "9   Ma Yu Ching's Bucket Chicken House          1153          CAT4   \n",
       "24                  Çemberlitaş Hamamı          1584         CAT19   \n",
       "38                         Wadia Group          1736         CAT12   \n",
       "44                        Pos Malaysia          1800         CAT16   \n",
       "\n",
       "   country_code   country continent  \n",
       "0           JPN     Japan      Asia  \n",
       "9           CHN     China      Asia  \n",
       "24          TUR    Turkey      Asia  \n",
       "38          IND     India      Asia  \n",
       "44          MYS  Malaysia      Asia  "
      ]
     },
     "execution_count": 3,
     "metadata": {},
     "output_type": "execute_result"
    }
   ],
   "source": [
    "# Filter businesses_countries to include countries in Asia\n",
    "asia = businesses_countries[businesses_countries['continent'] == 'Asia']\n",
    "asia.head()"
   ]
  },
  {
   "cell_type": "code",
   "execution_count": 4,
   "id": "a3fec3e7-6c7d-4711-8d92-ba51e356f8e2",
   "metadata": {
    "tags": []
   },
   "outputs": [
    {
     "data": {
      "text/html": [
       "<div>\n",
       "<style scoped>\n",
       "    .dataframe tbody tr th:only-of-type {\n",
       "        vertical-align: middle;\n",
       "    }\n",
       "\n",
       "    .dataframe tbody tr th {\n",
       "        vertical-align: top;\n",
       "    }\n",
       "\n",
       "    .dataframe thead th {\n",
       "        text-align: right;\n",
       "    }\n",
       "</style>\n",
       "<table border=\"1\" class=\"dataframe\">\n",
       "  <thead>\n",
       "    <tr style=\"text-align: right;\">\n",
       "      <th></th>\n",
       "      <th>business</th>\n",
       "      <th>year_founded</th>\n",
       "      <th>category_code</th>\n",
       "      <th>country_code</th>\n",
       "      <th>country</th>\n",
       "      <th>continent</th>\n",
       "    </tr>\n",
       "  </thead>\n",
       "  <tbody>\n",
       "    <tr>\n",
       "      <th>1</th>\n",
       "      <td>St. Peter Stifts Kulinarium</td>\n",
       "      <td>803</td>\n",
       "      <td>CAT4</td>\n",
       "      <td>AUT</td>\n",
       "      <td>Austria</td>\n",
       "      <td>Europe</td>\n",
       "    </tr>\n",
       "    <tr>\n",
       "      <th>2</th>\n",
       "      <td>Staffelter Hof Winery</td>\n",
       "      <td>862</td>\n",
       "      <td>CAT9</td>\n",
       "      <td>DEU</td>\n",
       "      <td>Germany</td>\n",
       "      <td>Europe</td>\n",
       "    </tr>\n",
       "    <tr>\n",
       "      <th>3</th>\n",
       "      <td>Monnaie de Paris</td>\n",
       "      <td>864</td>\n",
       "      <td>CAT12</td>\n",
       "      <td>FRA</td>\n",
       "      <td>France</td>\n",
       "      <td>Europe</td>\n",
       "    </tr>\n",
       "    <tr>\n",
       "      <th>4</th>\n",
       "      <td>The Royal Mint</td>\n",
       "      <td>886</td>\n",
       "      <td>CAT12</td>\n",
       "      <td>GBR</td>\n",
       "      <td>United Kingdom</td>\n",
       "      <td>Europe</td>\n",
       "    </tr>\n",
       "    <tr>\n",
       "      <th>5</th>\n",
       "      <td>Sean's Bar</td>\n",
       "      <td>900</td>\n",
       "      <td>CAT4</td>\n",
       "      <td>IRL</td>\n",
       "      <td>Ireland</td>\n",
       "      <td>Europe</td>\n",
       "    </tr>\n",
       "  </tbody>\n",
       "</table>\n",
       "</div>"
      ],
      "text/plain": [
       "                      business  year_founded category_code country_code  \\\n",
       "1  St. Peter Stifts Kulinarium           803          CAT4          AUT   \n",
       "2        Staffelter Hof Winery           862          CAT9          DEU   \n",
       "3            Monnaie de Paris            864         CAT12          FRA   \n",
       "4               The Royal Mint           886         CAT12          GBR   \n",
       "5                   Sean's Bar           900          CAT4          IRL   \n",
       "\n",
       "          country continent  \n",
       "1         Austria    Europe  \n",
       "2         Germany    Europe  \n",
       "3          France    Europe  \n",
       "4  United Kingdom    Europe  \n",
       "5         Ireland    Europe  "
      ]
     },
     "execution_count": 4,
     "metadata": {},
     "output_type": "execute_result"
    }
   ],
   "source": [
    "# Filter businesses_countries to include countries in Europe\n",
    "europe = businesses_countries[businesses_countries['continent'] == 'Europe']\n",
    "europe.head()"
   ]
  },
  {
   "cell_type": "code",
   "execution_count": 5,
   "id": "fdc17671-913a-4b9e-8a90-575f0cb37d5c",
   "metadata": {
    "tags": []
   },
   "outputs": [
    {
     "data": {
      "text/html": [
       "<div>\n",
       "<style scoped>\n",
       "    .dataframe tbody tr th:only-of-type {\n",
       "        vertical-align: middle;\n",
       "    }\n",
       "\n",
       "    .dataframe tbody tr th {\n",
       "        vertical-align: top;\n",
       "    }\n",
       "\n",
       "    .dataframe thead th {\n",
       "        text-align: right;\n",
       "    }\n",
       "</style>\n",
       "<table border=\"1\" class=\"dataframe\">\n",
       "  <thead>\n",
       "    <tr style=\"text-align: right;\">\n",
       "      <th></th>\n",
       "      <th>business</th>\n",
       "      <th>year_founded</th>\n",
       "      <th>category_code</th>\n",
       "      <th>country_code</th>\n",
       "      <th>country</th>\n",
       "      <th>continent</th>\n",
       "    </tr>\n",
       "  </thead>\n",
       "  <tbody>\n",
       "    <tr>\n",
       "      <th>22</th>\n",
       "      <td>La Casa de Moneda de México</td>\n",
       "      <td>1534</td>\n",
       "      <td>CAT12</td>\n",
       "      <td>MEX</td>\n",
       "      <td>Mexico</td>\n",
       "      <td>North America</td>\n",
       "    </tr>\n",
       "    <tr>\n",
       "      <th>28</th>\n",
       "      <td>Shirley Plantation</td>\n",
       "      <td>1638</td>\n",
       "      <td>CAT1</td>\n",
       "      <td>USA</td>\n",
       "      <td>United States</td>\n",
       "      <td>North America</td>\n",
       "    </tr>\n",
       "    <tr>\n",
       "      <th>33</th>\n",
       "      <td>Hudson's Bay Company</td>\n",
       "      <td>1670</td>\n",
       "      <td>CAT17</td>\n",
       "      <td>CAN</td>\n",
       "      <td>Canada</td>\n",
       "      <td>North America</td>\n",
       "    </tr>\n",
       "    <tr>\n",
       "      <th>35</th>\n",
       "      <td>Mount Gay Rum</td>\n",
       "      <td>1703</td>\n",
       "      <td>CAT9</td>\n",
       "      <td>BRB</td>\n",
       "      <td>Barbados</td>\n",
       "      <td>North America</td>\n",
       "    </tr>\n",
       "    <tr>\n",
       "      <th>40</th>\n",
       "      <td>Rose Hall</td>\n",
       "      <td>1770</td>\n",
       "      <td>CAT19</td>\n",
       "      <td>JAM</td>\n",
       "      <td>Jamaica</td>\n",
       "      <td>North America</td>\n",
       "    </tr>\n",
       "  </tbody>\n",
       "</table>\n",
       "</div>"
      ],
      "text/plain": [
       "                       business  year_founded category_code country_code  \\\n",
       "22  La Casa de Moneda de México          1534         CAT12          MEX   \n",
       "28           Shirley Plantation          1638          CAT1          USA   \n",
       "33         Hudson's Bay Company          1670         CAT17          CAN   \n",
       "35                Mount Gay Rum          1703          CAT9          BRB   \n",
       "40                    Rose Hall          1770         CAT19          JAM   \n",
       "\n",
       "          country      continent  \n",
       "22         Mexico  North America  \n",
       "28  United States  North America  \n",
       "33         Canada  North America  \n",
       "35       Barbados  North America  \n",
       "40        Jamaica  North America  "
      ]
     },
     "execution_count": 5,
     "metadata": {},
     "output_type": "execute_result"
    }
   ],
   "source": [
    "# Filter businesses_countries to include countries in North America only\n",
    "north_america = businesses_countries[businesses_countries['continent'] == 'North America']\n",
    "north_america.head()"
   ]
  },
  {
   "cell_type": "code",
   "execution_count": 6,
   "id": "60a91a00-96ad-41d1-8ca5-e06e3eedfca4",
   "metadata": {
    "tags": []
   },
   "outputs": [
    {
     "data": {
      "text/html": [
       "<div>\n",
       "<style scoped>\n",
       "    .dataframe tbody tr th:only-of-type {\n",
       "        vertical-align: middle;\n",
       "    }\n",
       "\n",
       "    .dataframe tbody tr th {\n",
       "        vertical-align: top;\n",
       "    }\n",
       "\n",
       "    .dataframe thead th {\n",
       "        text-align: right;\n",
       "    }\n",
       "</style>\n",
       "<table border=\"1\" class=\"dataframe\">\n",
       "  <thead>\n",
       "    <tr style=\"text-align: right;\">\n",
       "      <th></th>\n",
       "      <th>business</th>\n",
       "      <th>year_founded</th>\n",
       "      <th>category_code</th>\n",
       "      <th>country_code</th>\n",
       "      <th>country</th>\n",
       "      <th>continent</th>\n",
       "    </tr>\n",
       "  </thead>\n",
       "  <tbody>\n",
       "    <tr>\n",
       "      <th>23</th>\n",
       "      <td>Casa Nacional de Moneda</td>\n",
       "      <td>1565</td>\n",
       "      <td>CAT3</td>\n",
       "      <td>PER</td>\n",
       "      <td>Peru</td>\n",
       "      <td>South America</td>\n",
       "    </tr>\n",
       "    <tr>\n",
       "      <th>27</th>\n",
       "      <td>Casa de Moneda de Colombia</td>\n",
       "      <td>1621</td>\n",
       "      <td>CAT12</td>\n",
       "      <td>COL</td>\n",
       "      <td>Colombia</td>\n",
       "      <td>South America</td>\n",
       "    </tr>\n",
       "    <tr>\n",
       "      <th>31</th>\n",
       "      <td>Hacienda Chuao</td>\n",
       "      <td>1660</td>\n",
       "      <td>CAT11</td>\n",
       "      <td>VEN</td>\n",
       "      <td>Venezuela, Bolivarian Republic of</td>\n",
       "      <td>South America</td>\n",
       "    </tr>\n",
       "    <tr>\n",
       "      <th>34</th>\n",
       "      <td>Casa da Moeda do Brasil</td>\n",
       "      <td>1694</td>\n",
       "      <td>CAT12</td>\n",
       "      <td>BRA</td>\n",
       "      <td>Brazil</td>\n",
       "      <td>South America</td>\n",
       "    </tr>\n",
       "    <tr>\n",
       "      <th>47</th>\n",
       "      <td>Famae</td>\n",
       "      <td>1811</td>\n",
       "      <td>CAT8</td>\n",
       "      <td>CHL</td>\n",
       "      <td>Chile</td>\n",
       "      <td>South America</td>\n",
       "    </tr>\n",
       "  </tbody>\n",
       "</table>\n",
       "</div>"
      ],
      "text/plain": [
       "                      business  year_founded category_code country_code  \\\n",
       "23     Casa Nacional de Moneda          1565          CAT3          PER   \n",
       "27  Casa de Moneda de Colombia          1621         CAT12          COL   \n",
       "31              Hacienda Chuao          1660         CAT11          VEN   \n",
       "34     Casa da Moeda do Brasil          1694         CAT12          BRA   \n",
       "47                       Famae          1811          CAT8          CHL   \n",
       "\n",
       "                              country      continent  \n",
       "23                               Peru  South America  \n",
       "27                           Colombia  South America  \n",
       "31  Venezuela, Bolivarian Republic of  South America  \n",
       "34                             Brazil  South America  \n",
       "47                              Chile  South America  "
      ]
     },
     "execution_count": 6,
     "metadata": {},
     "output_type": "execute_result"
    }
   ],
   "source": [
    "# Filter businesses_countries to include countries in South America only\n",
    "south_america = businesses_countries[businesses_countries['continent'] == 'South America']\n",
    "south_america.head()"
   ]
  },
  {
   "cell_type": "code",
   "execution_count": 7,
   "id": "1d516819-af9c-4fbb-b5f3-7ec8c85daf6b",
   "metadata": {
    "tags": []
   },
   "outputs": [
    {
     "data": {
      "text/html": [
       "<div>\n",
       "<style scoped>\n",
       "    .dataframe tbody tr th:only-of-type {\n",
       "        vertical-align: middle;\n",
       "    }\n",
       "\n",
       "    .dataframe tbody tr th {\n",
       "        vertical-align: top;\n",
       "    }\n",
       "\n",
       "    .dataframe thead th {\n",
       "        text-align: right;\n",
       "    }\n",
       "</style>\n",
       "<table border=\"1\" class=\"dataframe\">\n",
       "  <thead>\n",
       "    <tr style=\"text-align: right;\">\n",
       "      <th></th>\n",
       "      <th>business</th>\n",
       "      <th>year_founded</th>\n",
       "      <th>category_code</th>\n",
       "      <th>country_code</th>\n",
       "      <th>country</th>\n",
       "      <th>continent</th>\n",
       "    </tr>\n",
       "  </thead>\n",
       "  <tbody>\n",
       "    <tr>\n",
       "      <th>41</th>\n",
       "      <td>Mauritius Post</td>\n",
       "      <td>1772</td>\n",
       "      <td>CAT16</td>\n",
       "      <td>MUS</td>\n",
       "      <td>Mauritius</td>\n",
       "      <td>Africa</td>\n",
       "    </tr>\n",
       "    <tr>\n",
       "      <th>48</th>\n",
       "      <td>NamPost</td>\n",
       "      <td>1814</td>\n",
       "      <td>CAT16</td>\n",
       "      <td>NAM</td>\n",
       "      <td>Namibia</td>\n",
       "      <td>Africa</td>\n",
       "    </tr>\n",
       "    <tr>\n",
       "      <th>50</th>\n",
       "      <td>Premier FMCG</td>\n",
       "      <td>1820</td>\n",
       "      <td>CAT12</td>\n",
       "      <td>ZAF</td>\n",
       "      <td>South Africa</td>\n",
       "      <td>Africa</td>\n",
       "    </tr>\n",
       "    <tr>\n",
       "      <th>60</th>\n",
       "      <td>La Poste Tunisienne</td>\n",
       "      <td>1847</td>\n",
       "      <td>CAT16</td>\n",
       "      <td>TUN</td>\n",
       "      <td>Tunisia</td>\n",
       "      <td>Africa</td>\n",
       "    </tr>\n",
       "    <tr>\n",
       "      <th>61</th>\n",
       "      <td>Correios de Cabo Verde</td>\n",
       "      <td>1849</td>\n",
       "      <td>CAT16</td>\n",
       "      <td>CPV</td>\n",
       "      <td>Cabo Verde</td>\n",
       "      <td>Africa</td>\n",
       "    </tr>\n",
       "  </tbody>\n",
       "</table>\n",
       "</div>"
      ],
      "text/plain": [
       "                  business  year_founded category_code country_code  \\\n",
       "41          Mauritius Post          1772         CAT16          MUS   \n",
       "48                 NamPost          1814         CAT16          NAM   \n",
       "50            Premier FMCG          1820         CAT12          ZAF   \n",
       "60     La Poste Tunisienne          1847         CAT16          TUN   \n",
       "61  Correios de Cabo Verde          1849         CAT16          CPV   \n",
       "\n",
       "         country continent  \n",
       "41     Mauritius    Africa  \n",
       "48       Namibia    Africa  \n",
       "50  South Africa    Africa  \n",
       "60       Tunisia    Africa  \n",
       "61    Cabo Verde    Africa  "
      ]
     },
     "execution_count": 7,
     "metadata": {},
     "output_type": "execute_result"
    }
   ],
   "source": [
    "# Filter businesses_countries to include countries in Africa\n",
    "africa = businesses_countries[businesses_countries['continent'] == 'Africa']\n",
    "africa.head()"
   ]
  },
  {
   "cell_type": "code",
   "execution_count": 8,
   "id": "0593139e-9395-480f-a2bd-cfa7e89cbe27",
   "metadata": {
    "tags": []
   },
   "outputs": [
    {
     "data": {
      "text/html": [
       "<div>\n",
       "<style scoped>\n",
       "    .dataframe tbody tr th:only-of-type {\n",
       "        vertical-align: middle;\n",
       "    }\n",
       "\n",
       "    .dataframe tbody tr th {\n",
       "        vertical-align: top;\n",
       "    }\n",
       "\n",
       "    .dataframe thead th {\n",
       "        text-align: right;\n",
       "    }\n",
       "</style>\n",
       "<table border=\"1\" class=\"dataframe\">\n",
       "  <thead>\n",
       "    <tr style=\"text-align: right;\">\n",
       "      <th></th>\n",
       "      <th>business</th>\n",
       "      <th>year_founded</th>\n",
       "      <th>category_code</th>\n",
       "      <th>country_code</th>\n",
       "      <th>country</th>\n",
       "      <th>continent</th>\n",
       "    </tr>\n",
       "  </thead>\n",
       "  <tbody>\n",
       "    <tr>\n",
       "      <th>46</th>\n",
       "      <td>Australia Post</td>\n",
       "      <td>1809</td>\n",
       "      <td>CAT16</td>\n",
       "      <td>AUS</td>\n",
       "      <td>Australia</td>\n",
       "      <td>Oceania</td>\n",
       "    </tr>\n",
       "    <tr>\n",
       "      <th>65</th>\n",
       "      <td>Bank of New Zealand</td>\n",
       "      <td>1861</td>\n",
       "      <td>CAT3</td>\n",
       "      <td>NZL</td>\n",
       "      <td>New Zealand</td>\n",
       "      <td>Oceania</td>\n",
       "    </tr>\n",
       "    <tr>\n",
       "      <th>159</th>\n",
       "      <td>European Trust Company</td>\n",
       "      <td>1991</td>\n",
       "      <td>CAT3</td>\n",
       "      <td>VUT</td>\n",
       "      <td>Vanuatu</td>\n",
       "      <td>Oceania</td>\n",
       "    </tr>\n",
       "  </tbody>\n",
       "</table>\n",
       "</div>"
      ],
      "text/plain": [
       "                   business  year_founded category_code country_code  \\\n",
       "46           Australia Post          1809         CAT16          AUS   \n",
       "65      Bank of New Zealand          1861          CAT3          NZL   \n",
       "159  European Trust Company          1991          CAT3          VUT   \n",
       "\n",
       "         country continent  \n",
       "46     Australia   Oceania  \n",
       "65   New Zealand   Oceania  \n",
       "159      Vanuatu   Oceania  "
      ]
     },
     "execution_count": 8,
     "metadata": {},
     "output_type": "execute_result"
    }
   ],
   "source": [
    "# Filter businesses_countries to include countries in Oceania\n",
    "oceania = businesses_countries[businesses_countries['continent'] == 'Oceania']\n",
    "oceania.head()"
   ]
  },
  {
   "cell_type": "markdown",
   "id": "a9052b42-00f4-469b-858a-17ac3f88d260",
   "metadata": {},
   "source": [
    "The oldest business was Kongō Gumi (578), St. Peter Stifts Kulinarium (803), La Casa de Moneda de México (1534), Casa Nacional de Moneda (1565), Mauritius Post (1772), Australia Post (1809) for Asia, Europe, North America, South America, Africa and Oceania, respectively.\n",
    "\n",
    "The previous code allows finding the oldest business for each continent. A simpler way to obtain the same information is shown below."
   ]
  },
  {
   "cell_type": "code",
   "execution_count": 9,
   "id": "0623b938-e8ca-4f44-9b81-05594b3b8835",
   "metadata": {
    "tags": []
   },
   "outputs": [
    {
     "data": {
      "text/html": [
       "<div>\n",
       "<style scoped>\n",
       "    .dataframe tbody tr th:only-of-type {\n",
       "        vertical-align: middle;\n",
       "    }\n",
       "\n",
       "    .dataframe tbody tr th {\n",
       "        vertical-align: top;\n",
       "    }\n",
       "\n",
       "    .dataframe thead th {\n",
       "        text-align: right;\n",
       "    }\n",
       "</style>\n",
       "<table border=\"1\" class=\"dataframe\">\n",
       "  <thead>\n",
       "    <tr style=\"text-align: right;\">\n",
       "      <th></th>\n",
       "      <th>continent</th>\n",
       "      <th>country</th>\n",
       "      <th>business</th>\n",
       "      <th>year_founded</th>\n",
       "    </tr>\n",
       "  </thead>\n",
       "  <tbody>\n",
       "    <tr>\n",
       "      <th>0</th>\n",
       "      <td>Africa</td>\n",
       "      <td>Mauritius</td>\n",
       "      <td>Mauritius Post</td>\n",
       "      <td>1772</td>\n",
       "    </tr>\n",
       "    <tr>\n",
       "      <th>1</th>\n",
       "      <td>Asia</td>\n",
       "      <td>Japan</td>\n",
       "      <td>Kongō Gumi</td>\n",
       "      <td>578</td>\n",
       "    </tr>\n",
       "    <tr>\n",
       "      <th>2</th>\n",
       "      <td>Europe</td>\n",
       "      <td>Austria</td>\n",
       "      <td>St. Peter Stifts Kulinarium</td>\n",
       "      <td>803</td>\n",
       "    </tr>\n",
       "    <tr>\n",
       "      <th>3</th>\n",
       "      <td>North America</td>\n",
       "      <td>Mexico</td>\n",
       "      <td>La Casa de Moneda de México</td>\n",
       "      <td>1534</td>\n",
       "    </tr>\n",
       "    <tr>\n",
       "      <th>4</th>\n",
       "      <td>Oceania</td>\n",
       "      <td>Australia</td>\n",
       "      <td>Australia Post</td>\n",
       "      <td>1809</td>\n",
       "    </tr>\n",
       "    <tr>\n",
       "      <th>5</th>\n",
       "      <td>South America</td>\n",
       "      <td>Peru</td>\n",
       "      <td>Casa Nacional de Moneda</td>\n",
       "      <td>1565</td>\n",
       "    </tr>\n",
       "  </tbody>\n",
       "</table>\n",
       "</div>"
      ],
      "text/plain": [
       "       continent    country                     business  year_founded\n",
       "0         Africa  Mauritius               Mauritius Post          1772\n",
       "1           Asia      Japan                   Kongō Gumi           578\n",
       "2         Europe    Austria  St. Peter Stifts Kulinarium           803\n",
       "3  North America     Mexico  La Casa de Moneda de México          1534\n",
       "4        Oceania  Australia               Australia Post          1809\n",
       "5  South America       Peru      Casa Nacional de Moneda          1565"
      ]
     },
     "execution_count": 9,
     "metadata": {},
     "output_type": "execute_result"
    }
   ],
   "source": [
    "# Create continent, which lists only the continent and oldest year_founded\n",
    "continent = businesses_countries.groupby('continent').agg({'year_founded':'min'})\n",
    "\n",
    "# Merge continent with businesses_countries\n",
    "merged_continent = continent.merge(businesses_countries, on=[\"continent\", \"year_founded\"])\n",
    "\n",
    "# Subset continent so that only the four columns of interest are included\n",
    "subset_merged_continent = merged_continent[['continent', 'country', 'business', 'year_founded']]\n",
    "subset_merged_continent"
   ]
  },
  {
   "cell_type": "markdown",
   "id": "cdd1df90-c9d6-4103-9d3e-03be9da1ed88",
   "metadata": {},
   "source": [
    "## 3. Unkown Oldest Business"
   ]
  },
  {
   "cell_type": "markdown",
   "id": "7172d39a-e7ec-43c1-89d9-77d0c45e009f",
   "metadata": {},
   "source": [
    "The provided datasets can be used to check if all countries have the oldest business."
   ]
  },
  {
   "cell_type": "code",
   "execution_count": 10,
   "id": "c4c5945b-0e3c-421c-a9a6-10065fcc7c67",
   "metadata": {
    "tags": []
   },
   "outputs": [
    {
     "data": {
      "text/plain": [
       "1                                Angola\n",
       "7                   Antigua and Barbuda\n",
       "18                              Bahamas\n",
       "48                   Dominican Republic\n",
       "50                              Ecuador\n",
       "57                                 Fiji\n",
       "59      Micronesia, Federated States of\n",
       "63                                Ghana\n",
       "65                               Gambia\n",
       "69                              Grenada\n",
       "79            Iran, Islamic Republic of\n",
       "89                           Kyrgyzstan\n",
       "91                             Kiribati\n",
       "92                Saint Kitts and Nevis\n",
       "107                              Monaco\n",
       "108                Moldova, Republic of\n",
       "110                            Maldives\n",
       "112                    Marshall Islands\n",
       "131                               Nauru\n",
       "138                               Palau\n",
       "139                    Papua New Guinea\n",
       "143                            Paraguay\n",
       "144                 Palestine, State of\n",
       "153                     Solomon Islands\n",
       "160                            Suriname\n",
       "170                          Tajikistan\n",
       "171                        Turkmenistan\n",
       "172                         Timor-Leste\n",
       "173                               Tonga\n",
       "177                              Tuvalu\n",
       "185    Saint Vincent and the Grenadines\n",
       "189                               Samoa\n",
       "Name: country, dtype: object"
      ]
     },
     "execution_count": 10,
     "metadata": {},
     "output_type": "execute_result"
    }
   ],
   "source": [
    "# Use .merge() to create a DataFrame, all_countries\n",
    "all_countries = businesses.merge(countries, on='country_code', how='right', indicator=True)\n",
    "\n",
    "# Filter to include only countries without oldest businesses\n",
    "missing_countries = all_countries[all_countries['_merge'] != 'both']\n",
    "\n",
    "# Create a series of the country names with missing oldest business data\n",
    "missing_countries_series = missing_countries['country']\n",
    "\n",
    "# Display the series\n",
    "missing_countries_series"
   ]
  },
  {
   "cell_type": "code",
   "execution_count": 11,
   "id": "af006f62-5649-48e0-b27d-1c3ab100e80f",
   "metadata": {
    "tags": []
   },
   "outputs": [
    {
     "data": {
      "text/plain": [
       "32"
      ]
     },
     "execution_count": 11,
     "metadata": {},
     "output_type": "execute_result"
    }
   ],
   "source": [
    "missing_countries_series.count()"
   ]
  },
  {
   "cell_type": "markdown",
   "id": "3bb0322e-32da-4f5a-90e3-8ce1a932be23",
   "metadata": {},
   "source": [
    "In this analysis, it can be concluded that 32 countries do not have the oldest business as BusinessFinancing.co.uk was not able to determine it."
   ]
  },
  {
   "cell_type": "markdown",
   "id": "233198f7-e2b5-4cc9-9626-e01e3c0724da",
   "metadata": {},
   "source": [
    "## 4. Adding new oldest business data"
   ]
  },
  {
   "cell_type": "markdown",
   "id": "cf323ff6-73b7-4466-b4df-ec527447eb23",
   "metadata": {},
   "source": [
    "Some countries lack their respective oldest business in this dataset. It can be updated with a new dataset that has some of that information."
   ]
  },
  {
   "cell_type": "code",
   "execution_count": 12,
   "id": "ddf785bd-ef78-4221-ad1f-830c8415bf92",
   "metadata": {
    "tags": []
   },
   "outputs": [
    {
     "data": {
      "text/html": [
       "<div>\n",
       "<style scoped>\n",
       "    .dataframe tbody tr th:only-of-type {\n",
       "        vertical-align: middle;\n",
       "    }\n",
       "\n",
       "    .dataframe tbody tr th {\n",
       "        vertical-align: top;\n",
       "    }\n",
       "\n",
       "    .dataframe thead th {\n",
       "        text-align: right;\n",
       "    }\n",
       "</style>\n",
       "<table border=\"1\" class=\"dataframe\">\n",
       "  <thead>\n",
       "    <tr style=\"text-align: right;\">\n",
       "      <th></th>\n",
       "      <th>count_missing</th>\n",
       "    </tr>\n",
       "    <tr>\n",
       "      <th>continent</th>\n",
       "      <th></th>\n",
       "    </tr>\n",
       "  </thead>\n",
       "  <tbody>\n",
       "    <tr>\n",
       "      <th>Africa</th>\n",
       "      <td>3</td>\n",
       "    </tr>\n",
       "    <tr>\n",
       "      <th>Asia</th>\n",
       "      <td>7</td>\n",
       "    </tr>\n",
       "    <tr>\n",
       "      <th>Europe</th>\n",
       "      <td>2</td>\n",
       "    </tr>\n",
       "    <tr>\n",
       "      <th>North America</th>\n",
       "      <td>5</td>\n",
       "    </tr>\n",
       "    <tr>\n",
       "      <th>Oceania</th>\n",
       "      <td>10</td>\n",
       "    </tr>\n",
       "    <tr>\n",
       "      <th>South America</th>\n",
       "      <td>3</td>\n",
       "    </tr>\n",
       "  </tbody>\n",
       "</table>\n",
       "</div>"
      ],
      "text/plain": [
       "               count_missing\n",
       "continent                   \n",
       "Africa                     3\n",
       "Asia                       7\n",
       "Europe                     2\n",
       "North America              5\n",
       "Oceania                   10\n",
       "South America              3"
      ]
     },
     "execution_count": 12,
     "metadata": {},
     "output_type": "execute_result"
    }
   ],
   "source": [
    "# Import new_businesses.csv\n",
    "new_businesses = pd.read_csv('Datasets/new_businesses.csv')\n",
    "\n",
    "# Add the data in new_businesses to the existing businesses\n",
    "all_businesses = pd.concat([new_businesses, businesses])\n",
    "\n",
    "# Merge and filter to find countries with missing business data\n",
    "new_all_countries = all_businesses.merge(countries, how='outer', on='country_code',  indicator=True)\n",
    "new_missing_countries = new_all_countries[new_all_countries['_merge'] != 'both']\n",
    "\n",
    "# Group by continent and create a \"count_missing\" column\n",
    "count_missing = new_missing_countries.groupby('continent').agg({'country':'count'})\n",
    "count_missing.columns = ['count_missing']\n",
    "count_missing"
   ]
  },
  {
   "cell_type": "markdown",
   "id": "36e19e0f-8826-4526-8c99-23f663bc8b56",
   "metadata": {
    "tags": []
   },
   "source": [
    "## 5. The oldest industries"
   ]
  },
  {
   "cell_type": "markdown",
   "id": "015788d6-e410-4ad6-9027-86a24f661f45",
   "metadata": {},
   "source": [
    "It is possible to know how many oldest businesses are in each category of industry with the information of the categories."
   ]
  },
  {
   "cell_type": "code",
   "execution_count": 13,
   "id": "63e32e8e-fbe0-40a3-bbfd-6c34619265ca",
   "metadata": {
    "tags": []
   },
   "outputs": [
    {
     "data": {
      "text/html": [
       "<div>\n",
       "<style scoped>\n",
       "    .dataframe tbody tr th:only-of-type {\n",
       "        vertical-align: middle;\n",
       "    }\n",
       "\n",
       "    .dataframe tbody tr th {\n",
       "        vertical-align: top;\n",
       "    }\n",
       "\n",
       "    .dataframe thead th {\n",
       "        text-align: right;\n",
       "    }\n",
       "</style>\n",
       "<table border=\"1\" class=\"dataframe\">\n",
       "  <thead>\n",
       "    <tr style=\"text-align: right;\">\n",
       "      <th></th>\n",
       "      <th>count</th>\n",
       "    </tr>\n",
       "    <tr>\n",
       "      <th>category</th>\n",
       "      <th></th>\n",
       "    </tr>\n",
       "  </thead>\n",
       "  <tbody>\n",
       "    <tr>\n",
       "      <th>Agriculture</th>\n",
       "      <td>6</td>\n",
       "    </tr>\n",
       "    <tr>\n",
       "      <th>Aviation &amp; Transport</th>\n",
       "      <td>19</td>\n",
       "    </tr>\n",
       "    <tr>\n",
       "      <th>Banking &amp; Finance</th>\n",
       "      <td>37</td>\n",
       "    </tr>\n",
       "    <tr>\n",
       "      <th>Cafés, Restaurants &amp; Bars</th>\n",
       "      <td>6</td>\n",
       "    </tr>\n",
       "    <tr>\n",
       "      <th>Conglomerate</th>\n",
       "      <td>3</td>\n",
       "    </tr>\n",
       "  </tbody>\n",
       "</table>\n",
       "</div>"
      ],
      "text/plain": [
       "                           count\n",
       "category                        \n",
       "Agriculture                    6\n",
       "Aviation & Transport          19\n",
       "Banking & Finance             37\n",
       "Cafés, Restaurants & Bars      6\n",
       "Conglomerate                   3"
      ]
     },
     "metadata": {},
     "output_type": "display_data"
    }
   ],
   "source": [
    "# Import categories.csv and merge to businesses\n",
    "categories = pd.read_csv(\"Datasets/categories.csv\")\n",
    "businesses_categories = businesses.merge(categories, on='category_code')\n",
    "\n",
    "# Create a DataFrame which lists the number of oldest businesses in each category\n",
    "count_business_cats = businesses_categories.groupby('category').agg({'category':'count'})\n",
    "\n",
    "# Rename column and display the first five rows of the DataFrame\n",
    "count_business_cats.columns = ['count']\n",
    "display(count_business_cats.head())"
   ]
  },
  {
   "cell_type": "markdown",
   "id": "314c6264-ccba-4d26-80eb-af30e5c96144",
   "metadata": {},
   "source": [
    "## 6. Restaurant representation"
   ]
  },
  {
   "cell_type": "markdown",
   "id": "4aa6250d-b7a5-4b78-a925-d915e8e4c745",
   "metadata": {},
   "source": [
    "For the section, the idea is to find which cafés, restaurants, and bars have been around since before 1800."
   ]
  },
  {
   "cell_type": "code",
   "execution_count": 14,
   "id": "348ed75f-5251-41dd-8fc9-3b00b983bdd2",
   "metadata": {
    "tags": []
   },
   "outputs": [
    {
     "data": {
      "text/html": [
       "<div>\n",
       "<style scoped>\n",
       "    .dataframe tbody tr th:only-of-type {\n",
       "        vertical-align: middle;\n",
       "    }\n",
       "\n",
       "    .dataframe tbody tr th {\n",
       "        vertical-align: top;\n",
       "    }\n",
       "\n",
       "    .dataframe thead th {\n",
       "        text-align: right;\n",
       "    }\n",
       "</style>\n",
       "<table border=\"1\" class=\"dataframe\">\n",
       "  <thead>\n",
       "    <tr style=\"text-align: right;\">\n",
       "      <th></th>\n",
       "      <th>business</th>\n",
       "      <th>year_founded</th>\n",
       "      <th>category_code</th>\n",
       "      <th>country_code</th>\n",
       "      <th>category</th>\n",
       "    </tr>\n",
       "  </thead>\n",
       "  <tbody>\n",
       "    <tr>\n",
       "      <th>142</th>\n",
       "      <td>St. Peter Stifts Kulinarium</td>\n",
       "      <td>803</td>\n",
       "      <td>CAT4</td>\n",
       "      <td>AUT</td>\n",
       "      <td>Cafés, Restaurants &amp; Bars</td>\n",
       "    </tr>\n",
       "    <tr>\n",
       "      <th>143</th>\n",
       "      <td>Sean's Bar</td>\n",
       "      <td>900</td>\n",
       "      <td>CAT4</td>\n",
       "      <td>IRL</td>\n",
       "      <td>Cafés, Restaurants &amp; Bars</td>\n",
       "    </tr>\n",
       "    <tr>\n",
       "      <th>139</th>\n",
       "      <td>Ma Yu Ching's Bucket Chicken House</td>\n",
       "      <td>1153</td>\n",
       "      <td>CAT4</td>\n",
       "      <td>CHN</td>\n",
       "      <td>Cafés, Restaurants &amp; Bars</td>\n",
       "    </tr>\n",
       "  </tbody>\n",
       "</table>\n",
       "</div>"
      ],
      "text/plain": [
       "                               business  year_founded category_code  \\\n",
       "142         St. Peter Stifts Kulinarium           803          CAT4   \n",
       "143                          Sean's Bar           900          CAT4   \n",
       "139  Ma Yu Ching's Bucket Chicken House          1153          CAT4   \n",
       "\n",
       "    country_code                   category  \n",
       "142          AUT  Cafés, Restaurants & Bars  \n",
       "143          IRL  Cafés, Restaurants & Bars  \n",
       "139          CHN  Cafés, Restaurants & Bars  "
      ]
     },
     "execution_count": 14,
     "metadata": {},
     "output_type": "execute_result"
    }
   ],
   "source": [
    "# Filter using .query() for CAT4 businesses founded before 1800; sort results\n",
    "old_restaurants = businesses_categories[businesses_categories['category_code'] =='CAT4'].query('year_founded < 1800')\n",
    "\n",
    "# Sort the DataFrame\n",
    "old_restaurants = old_restaurants.sort_values('year_founded', ascending=True)\n",
    "old_restaurants"
   ]
  },
  {
   "cell_type": "markdown",
   "id": "35c703df-a7a9-4b89-8249-3e8113f990cf",
   "metadata": {},
   "source": [
    "## 7. Categories and continents"
   ]
  },
  {
   "cell_type": "markdown",
   "id": "cf13d356-7271-4993-82f6-763aa3c40bbd",
   "metadata": {},
   "source": [
    "For this part, it is intended to find the oldest business in each category of commerce for each continent."
   ]
  },
  {
   "cell_type": "code",
   "execution_count": 15,
   "id": "3012f96c-ad69-461f-8942-62c1e733377a",
   "metadata": {
    "tags": []
   },
   "outputs": [
    {
     "data": {
      "text/html": [
       "<div>\n",
       "<style scoped>\n",
       "    .dataframe tbody tr th:only-of-type {\n",
       "        vertical-align: middle;\n",
       "    }\n",
       "\n",
       "    .dataframe tbody tr th {\n",
       "        vertical-align: top;\n",
       "    }\n",
       "\n",
       "    .dataframe thead th {\n",
       "        text-align: right;\n",
       "    }\n",
       "</style>\n",
       "<table border=\"1\" class=\"dataframe\">\n",
       "  <thead>\n",
       "    <tr style=\"text-align: right;\">\n",
       "      <th></th>\n",
       "      <th></th>\n",
       "      <th>year_founded</th>\n",
       "    </tr>\n",
       "    <tr>\n",
       "      <th>continent</th>\n",
       "      <th>category</th>\n",
       "      <th></th>\n",
       "    </tr>\n",
       "  </thead>\n",
       "  <tbody>\n",
       "    <tr>\n",
       "      <th rowspan=\"5\" valign=\"top\">Africa</th>\n",
       "      <th>Agriculture</th>\n",
       "      <td>1947</td>\n",
       "    </tr>\n",
       "    <tr>\n",
       "      <th>Aviation &amp; Transport</th>\n",
       "      <td>1854</td>\n",
       "    </tr>\n",
       "    <tr>\n",
       "      <th>Banking &amp; Finance</th>\n",
       "      <td>1892</td>\n",
       "    </tr>\n",
       "    <tr>\n",
       "      <th>Distillers, Vintners, &amp; Breweries</th>\n",
       "      <td>1933</td>\n",
       "    </tr>\n",
       "    <tr>\n",
       "      <th>Energy</th>\n",
       "      <td>1968</td>\n",
       "    </tr>\n",
       "  </tbody>\n",
       "</table>\n",
       "</div>"
      ],
      "text/plain": [
       "                                             year_founded\n",
       "continent category                                       \n",
       "Africa    Agriculture                                1947\n",
       "          Aviation & Transport                       1854\n",
       "          Banking & Finance                          1892\n",
       "          Distillers, Vintners, & Breweries          1933\n",
       "          Energy                                     1968"
      ]
     },
     "execution_count": 15,
     "metadata": {},
     "output_type": "execute_result"
    }
   ],
   "source": [
    "# Merge all businesses, countries, and categories together\n",
    "businesses_categories_countries = businesses.merge(categories, on='category_code').merge(countries, on='country_code')\n",
    "\n",
    "# Sort businesses_categories_countries from oldest to most recent\n",
    "businesses_categories_countries = businesses_categories_countries.sort_values('year_founded', ascending=True)\n",
    "\n",
    "# Create the oldest by continent and category DataFrame\n",
    "oldest_by_continent_category = businesses_categories_countries.groupby(['continent', 'category']).agg({'year_founded':'min'})\n",
    "oldest_by_continent_category.head()"
   ]
  }
 ],
 "metadata": {
  "kernelspec": {
   "display_name": "Python 3 (ipykernel)",
   "language": "python",
   "name": "python3"
  },
  "language_info": {
   "codemirror_mode": {
    "name": "ipython",
    "version": 3
   },
   "file_extension": ".py",
   "mimetype": "text/x-python",
   "name": "python",
   "nbconvert_exporter": "python",
   "pygments_lexer": "ipython3",
   "version": "3.11.5"
  }
 },
 "nbformat": 4,
 "nbformat_minor": 5
}
